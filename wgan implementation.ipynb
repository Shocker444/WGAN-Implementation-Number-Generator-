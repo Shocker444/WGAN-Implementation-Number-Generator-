{
 "cells": [
  {
   "cell_type": "code",
   "execution_count": 1,
   "metadata": {
    "ExecuteTime": {
     "end_time": "2023-09-04T07:54:13.633729Z",
     "start_time": "2023-09-04T07:54:04.178838Z"
    },
    "executionInfo": {
     "elapsed": 2920,
     "status": "ok",
     "timestamp": 1682524723517,
     "user": {
      "displayName": "X Life",
      "userId": "10647309832887347003"
     },
     "user_tz": -60
    },
    "id": "mAVXIqw34hR1"
   },
   "outputs": [],
   "source": [
    "import tensorflow as tf\n",
    "import numpy as np\n",
    "from tensorflow.keras import layers\n",
    "from tensorflow.keras import backend as K\n",
    "from tensorflow import keras\n",
    "from tensorflow.keras.constraints import Constraint\n",
    "from numpy.random import randn, randint\n",
    "from keras.datasets.mnist import load_data\n",
    "from keras.optimizers import RMSprop\n",
    "from keras.models import Sequential\n",
    "from keras.layers import Dense, Reshape, Flatten, Conv2D, Conv2DTranspose, LeakyReLU, BatchNormalization\n",
    "from keras.initializers import RandomNormal\n",
    "import matplotlib.pyplot as plt\n",
    "#from google.colab import drive\n",
    "import matplotlib.image as mpimg"
   ]
  },
  {
   "cell_type": "code",
   "execution_count": 2,
   "metadata": {
    "ExecuteTime": {
     "end_time": "2023-09-04T07:54:14.354476Z",
     "start_time": "2023-09-04T07:54:13.743631Z"
    },
    "executionInfo": {
     "elapsed": 803,
     "status": "ok",
     "timestamp": 1682524727601,
     "user": {
      "displayName": "X Life",
      "userId": "10647309832887347003"
     },
     "user_tz": -60
    },
    "id": "pHR4WI4c43FK"
   },
   "outputs": [],
   "source": [
    "(X_train, y_train), (X_test, y_test) = keras.datasets.mnist.load_data()"
   ]
  },
  {
   "cell_type": "code",
   "execution_count": 3,
   "metadata": {
    "ExecuteTime": {
     "end_time": "2023-09-04T07:54:14.452838Z",
     "start_time": "2023-09-04T07:54:14.442815Z"
    },
    "executionInfo": {
     "elapsed": 10,
     "status": "ok",
     "timestamp": 1682524727602,
     "user": {
      "displayName": "X Life",
      "userId": "10647309832887347003"
     },
     "user_tz": -60
    },
    "id": "6hxrGeCY5aTy"
   },
   "outputs": [],
   "source": [
    "train_images = X_train.reshape(-1, 28, 28, 1)"
   ]
  },
  {
   "cell_type": "code",
   "execution_count": 4,
   "metadata": {
    "ExecuteTime": {
     "end_time": "2023-09-04T07:54:15.301039Z",
     "start_time": "2023-09-04T07:54:14.556520Z"
    },
    "executionInfo": {
     "elapsed": 10,
     "status": "ok",
     "timestamp": 1682524727603,
     "user": {
      "displayName": "X Life",
      "userId": "10647309832887347003"
     },
     "user_tz": -60
    },
    "id": "ya-Iz5gp5aRh"
   },
   "outputs": [],
   "source": [
    "train_images = (train_images - 127.5) / 127.5"
   ]
  },
  {
   "cell_type": "code",
   "execution_count": 5,
   "metadata": {
    "ExecuteTime": {
     "end_time": "2023-09-04T07:54:15.450573Z",
     "start_time": "2023-09-04T07:54:15.409573Z"
    }
   },
   "outputs": [],
   "source": [
    "selected = y_train == 3\n",
    "train_ds = train_images[selected]"
   ]
  },
  {
   "cell_type": "code",
   "execution_count": 6,
   "metadata": {
    "ExecuteTime": {
     "end_time": "2023-09-04T07:54:15.641190Z",
     "start_time": "2023-09-04T07:54:15.599194Z"
    },
    "colab": {
     "base_uri": "https://localhost:8080/"
    },
    "executionInfo": {
     "elapsed": 8,
     "status": "ok",
     "timestamp": 1682524728069,
     "user": {
      "displayName": "X Life",
      "userId": "10647309832887347003"
     },
     "user_tz": -60
    },
    "id": "UtLnKF4WGUby",
    "outputId": "0685e04c-020f-4645-bba5-3cc343aef07d"
   },
   "outputs": [
    {
     "data": {
      "text/plain": [
       "6131"
      ]
     },
     "execution_count": 6,
     "metadata": {},
     "output_type": "execute_result"
    }
   ],
   "source": [
    "len(train_ds)"
   ]
  },
  {
   "cell_type": "code",
   "execution_count": 7,
   "metadata": {
    "ExecuteTime": {
     "end_time": "2023-09-04T07:54:15.874446Z",
     "start_time": "2023-09-04T07:54:15.780459Z"
    },
    "id": "T_TBL_veB_28"
   },
   "outputs": [],
   "source": [
    "train_ds = tf.data.Dataset.from_tensor_slices(train_ds).shuffle(300).batch(64)"
   ]
  },
  {
   "cell_type": "code",
   "execution_count": 8,
   "metadata": {
    "ExecuteTime": {
     "end_time": "2023-09-04T07:54:16.056900Z",
     "start_time": "2023-09-04T07:54:16.034435Z"
    },
    "id": "QF2gJ4Z6CICi"
   },
   "outputs": [
    {
     "data": {
      "text/plain": [
       "<_BatchDataset element_spec=TensorSpec(shape=(None, 28, 28, 1), dtype=tf.float64, name=None)>"
      ]
     },
     "execution_count": 8,
     "metadata": {},
     "output_type": "execute_result"
    }
   ],
   "source": [
    "train_ds"
   ]
  },
  {
   "cell_type": "code",
   "execution_count": 9,
   "metadata": {
    "ExecuteTime": {
     "end_time": "2023-09-04T07:54:17.043227Z",
     "start_time": "2023-09-04T07:54:16.181173Z"
    },
    "id": "g6iLw4zQQbCd"
   },
   "outputs": [
    {
     "data": {
      "image/png": "[encoded data removed]",
      "text/plain": [
       "<Figure size 640x480 with 2 Axes>"
      ]
     },
     "metadata": {},
     "output_type": "display_data"
    }
   ],
   "source": [
    "for image in train_ds.take(1):\n",
    "    for i in range(2):\n",
    "        plt.subplot(1, 2, i+1)\n",
    "        plt.imshow(image[i, :, :, 0].numpy())"
   ]
  },
  {
   "cell_type": "code",
   "execution_count": 10,
   "metadata": {
    "ExecuteTime": {
     "end_time": "2023-09-04T07:54:17.167480Z",
     "start_time": "2023-09-04T07:54:17.156458Z"
    },
    "id": "tkToD5N35aOh"
   },
   "outputs": [],
   "source": [
    "# clip model weights to a given hypercube\n",
    "class ClipConstraint(Constraint):\n",
    "    # set clip value when initialized\n",
    "    def __init__(self, clip_value):\n",
    "        self.clip_value = clip_value\n",
    " \n",
    "    # clip model weights to hypercube\n",
    "    def __call__(self, weights):\n",
    "        return K.clip(weights, -self.clip_value, self.clip_value)"
   ]
  },
  {
   "cell_type": "code",
   "execution_count": 11,
   "metadata": {
    "ExecuteTime": {
     "end_time": "2023-09-04T07:54:17.370453Z",
     "start_time": "2023-09-04T07:54:17.267139Z"
    },
    "id": "n0zKmPAL6SZE"
   },
   "outputs": [],
   "source": [
    " \n",
    "# define the standalone critic model\n",
    "def define_critic(in_shape=(28,28,1)):\n",
    "    # weight initialization\n",
    "    init = RandomNormal(stddev=0.02, seed=42)\n",
    "    # weight constraint\n",
    "    const = ClipConstraint(0.01)\n",
    "    # define model\n",
    "    model = Sequential()\n",
    "    # downsample to 14x14\n",
    "    model.add(Conv2D(64, (4,4), strides=(2,2), padding='same', kernel_initializer=init, kernel_constraint=const, input_shape=in_shape))\n",
    "    model.add(BatchNormalization()) #kernel_constraint=const\n",
    "    model.add(LeakyReLU(alpha=0.2))\n",
    "    # downsample to 7x7\n",
    "    model.add(Conv2D(64, (4,4), strides=(2,2), padding='same', kernel_initializer=init, kernel_constraint=const))\n",
    "    model.add(BatchNormalization()) #kernel_constraint=const\n",
    "    model.add(LeakyReLU(alpha=0.2))\n",
    "    # scoring, linear activation\n",
    "    model.add(Flatten())\n",
    "    model.add(Dense(1)) #kernel_constraint=const\n",
    "    return model\n",
    " \n",
    "# define the standalone generator model\n",
    "def define_generator(latent_dim):\n",
    "    # weight initialization\n",
    "    init = RandomNormal(stddev=0.02, seed=42)\n",
    "    # define model\n",
    "    model = Sequential()\n",
    "    # foundation for 7x7 image\n",
    "    n_nodes = 128 * 7 * 7\n",
    "    model.add(Dense(n_nodes, kernel_initializer=init, input_dim=latent_dim))\n",
    "    model.add(LeakyReLU(alpha=0.2))\n",
    "    model.add(Reshape((7, 7, 128)))\n",
    "    # upsample to 14x14\n",
    "    model.add(Conv2DTranspose(128, (4,4), strides=(2,2), padding='same', kernel_initializer=init))\n",
    "    model.add(BatchNormalization())\n",
    "    model.add(LeakyReLU(alpha=0.2))\n",
    "    # upsample to 28x28\n",
    "    model.add(Conv2DTranspose(128, (4,4), strides=(2,2), padding='same', kernel_initializer=init))\n",
    "    model.add(BatchNormalization())\n",
    "    model.add(LeakyReLU(alpha=0.2))\n",
    "    # output 28x28x1\n",
    "    model.add(Conv2D(1, (7,7), activation='tanh', padding='same', kernel_initializer=init))\n",
    "    return model"
   ]
  },
  {
   "cell_type": "code",
   "execution_count": 23,
   "metadata": {
    "ExecuteTime": {
     "end_time": "2023-09-04T08:42:30.431515Z",
     "start_time": "2023-09-04T08:42:30.030075Z"
    },
    "id": "kjhIjImJ7iRQ"
   },
   "outputs": [],
   "source": [
    "generator = define_generator(100)\n",
    "critic = define_critic()"
   ]
  },
  {
   "cell_type": "code",
   "execution_count": 24,
   "metadata": {
    "ExecuteTime": {
     "end_time": "2023-09-04T08:42:31.080224Z",
     "start_time": "2023-09-04T08:42:30.606035Z"
    },
    "id": "TvPYNz427hTF"
   },
   "outputs": [
    {
     "name": "stdout",
     "output_type": "stream",
     "text": [
      "tf.Tensor(\n",
      "[[[[ 2.06211349e-03]\n",
      "   [-2.11679842e-02]\n",
      "   [ 5.85214747e-03]\n",
      "   [-1.48885651e-02]\n",
      "   [-1.12538747e-02]\n",
      "   [-2.57573593e-02]\n",
      "   [-2.97916238e-03]\n",
      "   [-9.21283755e-03]\n",
      "   [ 1.05222231e-02]\n",
      "   [-1.09298555e-02]\n",
      "   [ 2.01162766e-03]\n",
      "   [-1.34493541e-02]\n",
      "   [ 2.35648863e-02]\n",
      "   [-3.47981788e-02]\n",
      "   [ 1.04574403e-02]\n",
      "   [-1.79658143e-03]\n",
      "   [-1.60893134e-03]\n",
      "   [-3.60084744e-03]\n",
      "   [ 9.42587852e-03]\n",
      "   [ 1.71321593e-02]\n",
      "   [-6.42062398e-03]\n",
      "   [ 3.27206007e-03]\n",
      "   [-1.00944582e-02]\n",
      "   [-1.96598005e-02]\n",
      "   [-7.38328882e-03]\n",
      "   [-1.66538302e-02]\n",
      "   [ 1.10291294e-05]\n",
      "   [-5.23381168e-03]]\n",
      "\n",
      "  [[-2.72745965e-04]\n",
      "   [ 1.77002547e-03]\n",
      "   [ 1.51329702e-02]\n",
      "   [ 2.47378740e-02]\n",
      "   [ 2.00552922e-02]\n",
      "   [-1.35755334e-02]\n",
      "   [ 1.52707556e-02]\n",
      "   [ 2.35954188e-02]\n",
      "   [-2.44673155e-02]\n",
      "   [-4.16504638e-03]\n",
      "   [ 1.18046077e-02]\n",
      "   [-2.42571020e-03]\n",
      "   [ 1.77048203e-02]\n",
      "   [-1.99200977e-02]\n",
      "   [ 2.87699364e-02]\n",
      "   [-6.19879412e-03]\n",
      "   [ 2.72395778e-02]\n",
      "   [-3.31232627e-03]\n",
      "   [-8.42864439e-03]\n",
      "   [-1.20649748e-02]\n",
      "   [-1.74900994e-03]\n",
      "   [-3.77514586e-02]\n",
      "   [ 3.06205102e-03]\n",
      "   [-1.59288035e-03]\n",
      "   [ 8.73446837e-03]\n",
      "   [-1.33265601e-02]\n",
      "   [ 6.05261768e-04]\n",
      "   [-4.92011430e-03]]\n",
      "\n",
      "  [[-5.30991936e-03]\n",
      "   [ 2.75084265e-02]\n",
      "   [-4.78331791e-03]\n",
      "   [-6.96128095e-03]\n",
      "   [ 1.04637686e-02]\n",
      "   [-8.17149132e-03]\n",
      "   [ 6.01560902e-03]\n",
      "   [ 1.59991737e-02]\n",
      "   [-2.74293534e-02]\n",
      "   [ 1.20819267e-02]\n",
      "   [ 6.97660586e-03]\n",
      "   [ 9.23006213e-04]\n",
      "   [ 1.42375687e-02]\n",
      "   [ 2.43032984e-02]\n",
      "   [ 1.87782142e-02]\n",
      "   [ 1.96201336e-02]\n",
      "   [-3.47605604e-03]\n",
      "   [ 2.19755527e-03]\n",
      "   [ 1.96978673e-02]\n",
      "   [-7.04055931e-03]\n",
      "   [-2.24918257e-02]\n",
      "   [ 2.84204111e-02]\n",
      "   [ 1.03355292e-02]\n",
      "   [ 2.88136844e-02]\n",
      "   [ 1.99133856e-03]\n",
      "   [ 1.77240465e-02]\n",
      "   [-5.34712989e-03]\n",
      "   [ 8.75489041e-03]]\n",
      "\n",
      "  [[-1.95641834e-02]\n",
      "   [-1.61151607e-02]\n",
      "   [ 6.44612312e-03]\n",
      "   [-1.05690677e-02]\n",
      "   [ 5.08950837e-03]\n",
      "   [-3.84069681e-02]\n",
      "   [-1.17673329e-03]\n",
      "   [-5.52592683e-04]\n",
      "   [-1.29098697e-02]\n",
      "   [-4.49808426e-02]\n",
      "   [ 2.09657308e-02]\n",
      "   [-2.76966635e-02]\n",
      "   [-1.37461722e-02]\n",
      "   [-1.64613891e-02]\n",
      "   [ 2.37096436e-02]\n",
      "   [-3.14969569e-02]\n",
      "   [-2.24305727e-02]\n",
      "   [-3.88375185e-02]\n",
      "   [-3.68990842e-03]\n",
      "   [-1.58653520e-02]\n",
      "   [ 2.84551568e-02]\n",
      "   [-5.32882549e-02]\n",
      "   [ 7.93934800e-03]\n",
      "   [-7.01801106e-03]\n",
      "   [ 1.52282296e-02]\n",
      "   [-2.32416131e-02]\n",
      "   [-5.55708492e-03]\n",
      "   [ 1.24425525e-02]]\n",
      "\n",
      "  [[ 8.20806995e-03]\n",
      "   [-6.77455729e-03]\n",
      "   [ 3.51202264e-02]\n",
      "   [ 4.35294099e-02]\n",
      "   [ 1.41532579e-02]\n",
      "   [-2.61113816e-03]\n",
      "   [ 5.65158315e-02]\n",
      "   [ 2.47249678e-02]\n",
      "   [-7.55860703e-03]\n",
      "   [-7.19229830e-03]\n",
      "   [-1.93633754e-02]\n",
      "   [-1.02159772e-02]\n",
      "   [ 4.30685952e-02]\n",
      "   [ 2.30979621e-02]\n",
      "   [ 1.84345581e-02]\n",
      "   [ 6.67354278e-03]\n",
      "   [-1.92948263e-02]\n",
      "   [ 7.55203608e-03]\n",
      "   [ 3.51971500e-02]\n",
      "   [-8.04063026e-03]\n",
      "   [ 2.07910854e-02]\n",
      "   [ 1.92014091e-02]\n",
      "   [ 7.85116851e-03]\n",
      "   [ 3.73934209e-03]\n",
      "   [ 1.62537154e-02]\n",
      "   [ 1.04163215e-03]\n",
      "   [ 1.40562039e-02]\n",
      "   [ 1.71180107e-02]]\n",
      "\n",
      "  [[-1.12092262e-03]\n",
      "   [-2.20767334e-02]\n",
      "   [ 7.27810711e-03]\n",
      "   [ 1.04102772e-02]\n",
      "   [ 7.20180152e-03]\n",
      "   [-2.74339803e-02]\n",
      "   [ 3.00209653e-02]\n",
      "   [ 9.79261007e-03]\n",
      "   [ 3.31234932e-03]\n",
      "   [ 8.64452403e-03]\n",
      "   [ 1.67527013e-02]\n",
      "   [-8.95641185e-03]\n",
      "   [ 2.19446104e-02]\n",
      "   [-1.83217786e-02]\n",
      "   [ 3.15236263e-02]\n",
      "   [ 1.60319991e-02]\n",
      "   [ 2.99727600e-02]\n",
      "   [-4.23182659e-02]\n",
      "   [ 4.93647866e-02]\n",
      "   [ 3.99208367e-02]\n",
      "   [-9.47186258e-03]\n",
      "   [ 1.38618713e-02]\n",
      "   [ 2.60600913e-02]\n",
      "   [ 2.64767911e-02]\n",
      "   [-1.16377939e-02]\n",
      "   [-2.52252370e-02]\n",
      "   [ 1.47077329e-02]\n",
      "   [-1.63581036e-02]]\n",
      "\n",
      "  [[ 1.17160389e-02]\n",
      "   [-1.26088494e-02]\n",
      "   [ 9.32857022e-03]\n",
      "   [ 1.01967128e-02]\n",
      "   [ 3.23281586e-02]\n",
      "   [-1.62727702e-02]\n",
      "   [ 5.01435883e-02]\n",
      "   [-2.72047035e-02]\n",
      "   [ 6.92726299e-03]\n",
      "   [ 4.33755992e-03]\n",
      "   [ 1.38032604e-02]\n",
      "   [ 3.28936093e-02]\n",
      "   [ 9.59772617e-03]\n",
      "   [-4.75333538e-03]\n",
      "   [-6.57002535e-03]\n",
      "   [ 2.38832086e-02]\n",
      "   [-8.07985850e-03]\n",
      "   [ 8.05457216e-03]\n",
      "   [ 1.14351732e-03]\n",
      "   [ 4.33729868e-03]\n",
      "   [ 4.30464819e-02]\n",
      "   [ 2.60419701e-03]\n",
      "   [ 1.98047291e-02]\n",
      "   [ 1.78076047e-02]\n",
      "   [ 1.53344246e-02]\n",
      "   [ 2.07446907e-02]\n",
      "   [ 2.55924631e-02]\n",
      "   [ 4.59510228e-03]]\n",
      "\n",
      "  [[ 2.21022107e-02]\n",
      "   [ 2.80283228e-03]\n",
      "   [-8.10436532e-03]\n",
      "   [-1.58135686e-02]\n",
      "   [-7.74001190e-03]\n",
      "   [-1.18949609e-02]\n",
      "   [-6.09228434e-03]\n",
      "   [-2.14919243e-02]\n",
      "   [ 1.41113289e-02]\n",
      "   [-4.08185907e-02]\n",
      "   [ 1.57424565e-02]\n",
      "   [ 6.19064900e-04]\n",
      "   [ 4.69883066e-03]\n",
      "   [-1.91440154e-02]\n",
      "   [ 3.43690962e-02]\n",
      "   [-1.64235439e-02]\n",
      "   [-1.31679391e-02]\n",
      "   [-9.41038714e-04]\n",
      "   [-7.72643276e-03]\n",
      "   [-6.69247098e-03]\n",
      "   [ 1.31649571e-02]\n",
      "   [-9.10741650e-03]\n",
      "   [ 5.09308092e-03]\n",
      "   [ 5.84156858e-03]\n",
      "   [ 7.20356451e-03]\n",
      "   [-2.47560181e-02]\n",
      "   [ 7.91583210e-03]\n",
      "   [ 3.07640969e-03]]\n",
      "\n",
      "  [[ 4.43157507e-03]\n",
      "   [-2.55351141e-02]\n",
      "   [-1.95239242e-02]\n",
      "   [-2.56783478e-02]\n",
      "   [ 2.17729136e-02]\n",
      "   [-2.35560704e-02]\n",
      "   [ 5.23282662e-02]\n",
      "   [ 2.72270273e-02]\n",
      "   [-3.36056296e-03]\n",
      "   [ 1.03817647e-02]\n",
      "   [ 4.89209704e-02]\n",
      "   [-1.39707942e-02]\n",
      "   [-1.03761721e-02]\n",
      "   [ 3.47655523e-03]\n",
      "   [ 5.02629653e-02]\n",
      "   [ 6.96978858e-03]\n",
      "   [ 1.09612616e-02]\n",
      "   [-1.50847919e-02]\n",
      "   [ 1.40040973e-02]\n",
      "   [ 1.06175737e-02]\n",
      "   [-1.04513839e-02]\n",
      "   [-3.36542516e-03]\n",
      "   [ 6.84269294e-02]\n",
      "   [-4.02945764e-02]\n",
      "   [-6.51372946e-04]\n",
      "   [ 4.52327915e-03]\n",
      "   [-6.05952693e-03]\n",
      "   [ 1.37448413e-02]]\n",
      "\n",
      "  [[-1.75191108e-02]\n",
      "   [-1.62168238e-02]\n",
      "   [ 2.66888905e-02]\n",
      "   [ 1.12579167e-02]\n",
      "   [ 1.82176344e-02]\n",
      "   [-3.34954634e-02]\n",
      "   [ 1.41197471e-02]\n",
      "   [-4.66233538e-03]\n",
      "   [-3.52815981e-03]\n",
      "   [-4.62572975e-03]\n",
      "   [ 3.83311510e-02]\n",
      "   [-1.32048922e-03]\n",
      "   [ 3.59014645e-02]\n",
      "   [-3.98634002e-02]\n",
      "   [ 8.44819937e-03]\n",
      "   [-6.38063066e-05]\n",
      "   [ 1.43188303e-02]\n",
      "   [-1.94762442e-02]\n",
      "   [ 3.50787975e-02]\n",
      "   [-1.51198367e-02]\n",
      "   [-1.02956069e-03]\n",
      "   [ 1.68823116e-02]\n",
      "   [-7.96202570e-03]\n",
      "   [ 1.03048133e-02]\n",
      "   [ 3.37102041e-02]\n",
      "   [ 2.24431767e-03]\n",
      "   [ 2.15904769e-02]\n",
      "   [-3.41769308e-04]]\n",
      "\n",
      "  [[ 8.93028860e-04]\n",
      "   [ 1.67982187e-03]\n",
      "   [ 4.84474674e-02]\n",
      "   [-5.16188517e-03]\n",
      "   [-2.85142679e-02]\n",
      "   [-1.11395651e-02]\n",
      "   [ 3.12353130e-02]\n",
      "   [ 2.62660235e-02]\n",
      "   [ 2.23613135e-03]\n",
      "   [-1.66788837e-03]\n",
      "   [ 1.60516296e-02]\n",
      "   [-7.42374873e-03]\n",
      "   [-4.11531801e-04]\n",
      "   [ 5.09361438e-02]\n",
      "   [ 2.10263729e-02]\n",
      "   [ 2.99187396e-02]\n",
      "   [ 2.74823629e-03]\n",
      "   [ 1.67074986e-02]\n",
      "   [ 1.27767737e-03]\n",
      "   [ 2.77399700e-02]\n",
      "   [-1.92093756e-02]\n",
      "   [-3.25439498e-02]\n",
      "   [ 1.26288375e-02]\n",
      "   [ 1.28386647e-03]\n",
      "   [ 1.42003726e-02]\n",
      "   [ 1.45350285e-02]\n",
      "   [ 1.92006528e-02]\n",
      "   [ 1.73830204e-02]]\n",
      "\n",
      "  [[-3.19141033e-03]\n",
      "   [-1.24403080e-02]\n",
      "   [ 2.93122162e-03]\n",
      "   [-4.59817871e-02]\n",
      "   [ 3.25743333e-02]\n",
      "   [-4.17339010e-03]\n",
      "   [-7.92119652e-03]\n",
      "   [-3.07189655e-02]\n",
      "   [ 4.00781408e-02]\n",
      "   [-1.86141320e-02]\n",
      "   [ 6.06956333e-02]\n",
      "   [-1.97931044e-02]\n",
      "   [-1.04120523e-02]\n",
      "   [-3.69340181e-04]\n",
      "   [ 3.09969820e-02]\n",
      "   [-1.90071892e-02]\n",
      "   [ 2.25663781e-02]\n",
      "   [ 4.18553641e-03]\n",
      "   [ 3.12839709e-02]\n",
      "   [ 4.34467830e-02]\n",
      "   [ 2.68601291e-02]\n",
      "   [-2.10316367e-02]\n",
      "   [-9.76466108e-03]\n",
      "   [-1.16027072e-02]\n",
      "   [-5.07109286e-03]\n",
      "   [-5.27446950e-03]\n",
      "   [ 2.87806559e-02]\n",
      "   [-5.75629435e-03]]\n",
      "\n",
      "  [[-1.95046645e-02]\n",
      "   [ 1.43318798e-03]\n",
      "   [-1.02550583e-02]\n",
      "   [ 9.56756715e-03]\n",
      "   [-1.20213255e-02]\n",
      "   [ 2.19134837e-02]\n",
      "   [ 3.07854842e-02]\n",
      "   [ 4.75619547e-02]\n",
      "   [ 9.77157522e-03]\n",
      "   [-2.64569605e-03]\n",
      "   [ 4.28842902e-02]\n",
      "   [ 2.85450723e-02]\n",
      "   [ 7.13548809e-02]\n",
      "   [ 1.48360664e-02]\n",
      "   [ 2.18656734e-02]\n",
      "   [ 5.78336651e-03]\n",
      "   [ 1.11405959e-03]\n",
      "   [ 1.67674664e-02]\n",
      "   [ 1.18542006e-02]\n",
      "   [-1.13665275e-02]\n",
      "   [-2.76974496e-03]\n",
      "   [ 3.30084260e-03]\n",
      "   [ 2.03412045e-02]\n",
      "   [ 1.52652692e-02]\n",
      "   [ 1.43449167e-02]\n",
      "   [ 1.58652905e-02]\n",
      "   [ 1.67066976e-02]\n",
      "   [ 7.65901944e-03]]\n",
      "\n",
      "  [[ 1.73171132e-03]\n",
      "   [ 1.26513550e-02]\n",
      "   [ 1.17400177e-02]\n",
      "   [ 1.47760687e-02]\n",
      "   [ 2.32095197e-02]\n",
      "   [ 2.37950291e-02]\n",
      "   [ 2.13999748e-02]\n",
      "   [ 4.46171407e-03]\n",
      "   [ 5.32288849e-02]\n",
      "   [-1.09362751e-02]\n",
      "   [ 2.35469602e-02]\n",
      "   [ 5.85794402e-03]\n",
      "   [ 1.75655298e-02]\n",
      "   [-5.23419417e-02]\n",
      "   [ 2.40718685e-02]\n",
      "   [ 4.10234742e-02]\n",
      "   [ 4.44403701e-02]\n",
      "   [-5.69442399e-02]\n",
      "   [ 2.43556611e-02]\n",
      "   [ 1.93020292e-02]\n",
      "   [-5.64315123e-03]\n",
      "   [ 7.95218861e-04]\n",
      "   [ 4.08679657e-02]\n",
      "   [-9.35380813e-03]\n",
      "   [ 4.02121805e-02]\n",
      "   [-7.40887411e-03]\n",
      "   [ 2.39018388e-02]\n",
      "   [-1.38469338e-02]]\n",
      "\n",
      "  [[ 1.30566186e-03]\n",
      "   [-7.65907485e-03]\n",
      "   [ 7.94290379e-03]\n",
      "   [ 6.60688290e-03]\n",
      "   [ 2.14501563e-02]\n",
      "   [-1.10629937e-02]\n",
      "   [-8.72525852e-03]\n",
      "   [ 1.70295089e-02]\n",
      "   [-1.22782011e-02]\n",
      "   [ 1.36271883e-02]\n",
      "   [ 9.22048837e-03]\n",
      "   [ 2.38047689e-02]\n",
      "   [-2.40223333e-02]\n",
      "   [ 9.69200488e-03]\n",
      "   [ 2.89694462e-02]\n",
      "   [-1.09950975e-02]\n",
      "   [ 7.31690228e-03]\n",
      "   [-3.92085686e-02]\n",
      "   [ 5.13421521e-02]\n",
      "   [ 5.25264218e-02]\n",
      "   [ 1.71306226e-02]\n",
      "   [-2.71949768e-02]\n",
      "   [ 2.03354117e-02]\n",
      "   [ 2.14684680e-02]\n",
      "   [ 4.34440114e-02]\n",
      "   [ 2.71879369e-03]\n",
      "   [ 1.03770439e-02]\n",
      "   [ 5.52909169e-03]]\n",
      "\n",
      "  [[-4.26041707e-03]\n",
      "   [-4.46332560e-04]\n",
      "   [-2.96552777e-02]\n",
      "   [-4.56225388e-02]\n",
      "   [-8.57130333e-04]\n",
      "   [-1.14746783e-02]\n",
      "   [ 1.39181791e-02]\n",
      "   [-4.08921503e-02]\n",
      "   [-7.78746372e-03]\n",
      "   [-1.19374618e-02]\n",
      "   [ 1.86307766e-02]\n",
      "   [-5.60309784e-03]\n",
      "   [ 2.80788671e-02]\n",
      "   [-1.22727575e-02]\n",
      "   [ 1.75342821e-02]\n",
      "   [-1.42534999e-02]\n",
      "   [ 3.06524914e-02]\n",
      "   [-2.78250314e-02]\n",
      "   [ 3.71699445e-02]\n",
      "   [-2.69254670e-02]\n",
      "   [ 1.93864163e-02]\n",
      "   [-4.17318642e-02]\n",
      "   [-4.57477057e-03]\n",
      "   [-5.20278886e-03]\n",
      "   [-4.23001731e-03]\n",
      "   [-2.02406216e-02]\n",
      "   [ 1.29871853e-02]\n",
      "   [ 2.59850714e-02]]\n",
      "\n",
      "  [[ 1.73868779e-02]\n",
      "   [-1.77571382e-02]\n",
      "   [ 3.12362742e-02]\n",
      "   [-1.39287859e-02]\n",
      "   [ 1.21228006e-02]\n",
      "   [-3.99060883e-02]\n",
      "   [ 1.22434078e-02]\n",
      "   [-2.06268928e-03]\n",
      "   [ 1.51615478e-02]\n",
      "   [ 7.15200696e-03]\n",
      "   [ 2.36470811e-02]\n",
      "   [ 4.82557788e-02]\n",
      "   [ 9.03398637e-03]\n",
      "   [ 9.63292923e-03]\n",
      "   [ 5.49646541e-02]\n",
      "   [ 5.33924252e-03]\n",
      "   [ 5.61361238e-02]\n",
      "   [ 2.30001588e-03]\n",
      "   [ 2.36169882e-02]\n",
      "   [-3.20648253e-02]\n",
      "   [ 1.31416395e-02]\n",
      "   [ 1.91983040e-02]\n",
      "   [ 1.83369312e-02]\n",
      "   [ 8.17188993e-03]\n",
      "   [ 1.70803871e-02]\n",
      "   [-2.33979598e-02]\n",
      "   [ 3.56165804e-02]\n",
      "   [-1.02866220e-03]]\n",
      "\n",
      "  [[ 2.75324471e-02]\n",
      "   [-1.98833346e-02]\n",
      "   [ 2.63954792e-02]\n",
      "   [ 9.36024915e-03]\n",
      "   [-7.16115022e-03]\n",
      "   [ 1.84834620e-03]\n",
      "   [ 4.39413972e-02]\n",
      "   [-1.03402119e-02]\n",
      "   [ 2.96317041e-02]\n",
      "   [-7.74620241e-03]\n",
      "   [ 1.43571543e-02]\n",
      "   [-2.05909461e-02]\n",
      "   [ 4.08476107e-02]\n",
      "   [ 5.33222221e-03]\n",
      "   [ 3.70287299e-02]\n",
      "   [-4.50333959e-04]\n",
      "   [ 3.21237259e-02]\n",
      "   [-2.51034740e-02]\n",
      "   [ 6.02950081e-02]\n",
      "   [ 1.32983550e-02]\n",
      "   [ 3.58862523e-03]\n",
      "   [-7.84202665e-03]\n",
      "   [ 1.72750419e-03]\n",
      "   [ 1.25927366e-02]\n",
      "   [ 3.14896852e-02]\n",
      "   [-3.43907997e-02]\n",
      "   [ 1.87506136e-02]\n",
      "   [ 7.68432859e-03]]\n",
      "\n",
      "  [[-1.73796285e-02]\n",
      "   [-1.29702967e-02]\n",
      "   [ 5.21566393e-03]\n",
      "   [ 4.49040579e-03]\n",
      "   [-7.51641858e-03]\n",
      "   [-3.08547374e-02]\n",
      "   [ 2.78788675e-02]\n",
      "   [-2.19938438e-02]\n",
      "   [-1.09999040e-02]\n",
      "   [ 4.62350319e-04]\n",
      "   [ 9.67690255e-03]\n",
      "   [ 2.45698616e-02]\n",
      "   [ 4.19915654e-02]\n",
      "   [ 1.21286185e-02]\n",
      "   [ 3.58773326e-03]\n",
      "   [ 6.41683303e-03]\n",
      "   [-2.68847030e-02]\n",
      "   [-1.93851185e-03]\n",
      "   [ 2.48691253e-02]\n",
      "   [ 1.02287782e-02]\n",
      "   [ 1.47907976e-02]\n",
      "   [-2.20591668e-04]\n",
      "   [ 3.64788063e-02]\n",
      "   [ 1.55309634e-03]\n",
      "   [ 1.00351460e-02]\n",
      "   [ 2.35746205e-02]\n",
      "   [ 8.71872623e-03]\n",
      "   [ 2.12236512e-02]]\n",
      "\n",
      "  [[-1.59728844e-02]\n",
      "   [-3.85785066e-02]\n",
      "   [ 3.63972522e-02]\n",
      "   [-5.24218529e-02]\n",
      "   [ 2.52193566e-02]\n",
      "   [-2.89880694e-03]\n",
      "   [-4.80951881e-03]\n",
      "   [-4.18182537e-02]\n",
      "   [ 1.28092747e-02]\n",
      "   [-3.17167379e-02]\n",
      "   [ 7.97216222e-03]\n",
      "   [-2.34523788e-02]\n",
      "   [ 2.04080474e-02]\n",
      "   [-2.22006533e-03]\n",
      "   [ 1.72437169e-02]\n",
      "   [ 3.74693307e-03]\n",
      "   [-6.95294142e-03]\n",
      "   [-3.26486565e-02]\n",
      "   [-4.68060886e-03]\n",
      "   [-1.78605746e-02]\n",
      "   [-3.16525511e-02]\n",
      "   [ 1.90424416e-02]\n",
      "   [ 1.49390502e-02]\n",
      "   [-2.36128662e-02]\n",
      "   [ 3.15017849e-02]\n",
      "   [-2.71737762e-02]\n",
      "   [ 1.65730901e-02]\n",
      "   [ 2.12461054e-02]]\n",
      "\n",
      "  [[-1.02916369e-02]\n",
      "   [-4.89052245e-03]\n",
      "   [-4.75648837e-03]\n",
      "   [ 3.02203256e-03]\n",
      "   [ 2.04515066e-02]\n",
      "   [ 2.28708666e-02]\n",
      "   [ 3.74195091e-02]\n",
      "   [ 1.49717601e-02]\n",
      "   [ 3.34397890e-02]\n",
      "   [-4.79320623e-03]\n",
      "   [ 4.08912115e-02]\n",
      "   [-1.66738443e-02]\n",
      "   [ 2.90906336e-02]\n",
      "   [-9.83878784e-03]\n",
      "   [ 8.44647549e-03]\n",
      "   [-1.21812774e-02]\n",
      "   [ 4.48486907e-03]\n",
      "   [ 2.65929457e-02]\n",
      "   [ 5.45581803e-02]\n",
      "   [ 1.09364884e-02]\n",
      "   [ 3.51810642e-02]\n",
      "   [-5.15690595e-02]\n",
      "   [ 2.63274331e-02]\n",
      "   [ 9.92455240e-03]\n",
      "   [ 3.53215784e-02]\n",
      "   [ 3.85764800e-03]\n",
      "   [ 1.38654439e-02]\n",
      "   [ 2.40287706e-02]]\n",
      "\n",
      "  [[-1.36331096e-02]\n",
      "   [-1.13265431e-02]\n",
      "   [ 1.94420144e-02]\n",
      "   [-1.15026664e-02]\n",
      "   [-1.19508347e-02]\n",
      "   [-3.20378202e-03]\n",
      "   [ 3.06236669e-02]\n",
      "   [ 5.63141480e-02]\n",
      "   [ 1.68400612e-02]\n",
      "   [-2.22375896e-03]\n",
      "   [ 7.52275214e-02]\n",
      "   [ 1.63596252e-03]\n",
      "   [ 3.82768437e-02]\n",
      "   [-3.17361802e-02]\n",
      "   [ 2.19515115e-02]\n",
      "   [ 4.82038744e-02]\n",
      "   [-7.15334900e-05]\n",
      "   [-4.20167558e-02]\n",
      "   [ 1.58977450e-03]\n",
      "   [ 4.65921999e-04]\n",
      "   [ 6.70533953e-03]\n",
      "   [-5.32644317e-02]\n",
      "   [ 4.45743389e-02]\n",
      "   [-8.89495015e-03]\n",
      "   [ 1.14949206e-02]\n",
      "   [ 2.40465179e-02]\n",
      "   [ 2.08748709e-02]\n",
      "   [ 5.37865609e-03]]\n",
      "\n",
      "  [[ 4.24942747e-03]\n",
      "   [-2.08424497e-02]\n",
      "   [ 1.84099916e-02]\n",
      "   [ 1.79834794e-02]\n",
      "   [ 3.20646763e-02]\n",
      "   [-1.12012923e-02]\n",
      "   [ 1.95377320e-02]\n",
      "   [ 6.61001056e-02]\n",
      "   [ 2.53422968e-02]\n",
      "   [ 2.49259397e-02]\n",
      "   [ 2.76729278e-02]\n",
      "   [ 1.27599044e-02]\n",
      "   [ 8.02966952e-03]\n",
      "   [-1.39421653e-02]\n",
      "   [ 2.36289445e-02]\n",
      "   [ 1.42366271e-02]\n",
      "   [ 1.17430547e-02]\n",
      "   [ 1.96826644e-03]\n",
      "   [ 1.08463243e-02]\n",
      "   [ 1.21235009e-02]\n",
      "   [ 5.65599017e-02]\n",
      "   [-3.91043276e-02]\n",
      "   [ 2.09147185e-02]\n",
      "   [ 1.40884155e-02]\n",
      "   [ 1.75846107e-02]\n",
      "   [-6.56431448e-03]\n",
      "   [ 2.04299148e-02]\n",
      "   [ 1.26203503e-02]]\n",
      "\n",
      "  [[-2.20846515e-02]\n",
      "   [-2.09418405e-02]\n",
      "   [-1.00947022e-02]\n",
      "   [-2.25956328e-02]\n",
      "   [-3.05505469e-04]\n",
      "   [-7.02485964e-02]\n",
      "   [ 6.33649854e-03]\n",
      "   [ 1.57432538e-02]\n",
      "   [ 3.16384286e-02]\n",
      "   [-4.76567857e-02]\n",
      "   [ 1.03958268e-02]\n",
      "   [-1.85069907e-02]\n",
      "   [ 2.31982730e-02]\n",
      "   [-5.27386814e-02]\n",
      "   [ 2.20584739e-02]\n",
      "   [ 1.22942850e-02]\n",
      "   [-6.06532348e-03]\n",
      "   [-2.45233029e-02]\n",
      "   [ 8.13357532e-03]\n",
      "   [-4.51822532e-03]\n",
      "   [ 1.46758696e-02]\n",
      "   [-2.26144418e-02]\n",
      "   [-7.24633830e-03]\n",
      "   [-1.19435769e-02]\n",
      "   [ 4.60159145e-02]\n",
      "   [-1.26141896e-02]\n",
      "   [ 1.56395063e-02]\n",
      "   [ 1.57491099e-02]]\n",
      "\n",
      "  [[ 5.18420571e-03]\n",
      "   [-1.18620023e-02]\n",
      "   [ 5.07291034e-02]\n",
      "   [-3.22423223e-03]\n",
      "   [-1.10878879e-02]\n",
      "   [-2.19928585e-02]\n",
      "   [ 4.52242568e-02]\n",
      "   [ 9.07914620e-03]\n",
      "   [ 2.41236645e-03]\n",
      "   [ 1.46057876e-02]\n",
      "   [ 1.71124469e-02]\n",
      "   [ 2.45898496e-04]\n",
      "   [ 2.12612096e-02]\n",
      "   [-3.32616363e-03]\n",
      "   [-2.04615984e-02]\n",
      "   [ 2.29428206e-02]\n",
      "   [ 1.35448910e-02]\n",
      "   [-2.97228564e-02]\n",
      "   [ 3.97750996e-02]\n",
      "   [ 8.19955720e-04]\n",
      "   [ 4.18113582e-02]\n",
      "   [ 3.39652016e-03]\n",
      "   [ 1.89534854e-02]\n",
      "   [ 1.21884188e-02]\n",
      "   [ 1.36792846e-03]\n",
      "   [-1.06896227e-03]\n",
      "   [ 3.34831476e-02]\n",
      "   [ 1.33008016e-02]]\n",
      "\n",
      "  [[-4.02381783e-03]\n",
      "   [-1.66580230e-02]\n",
      "   [ 2.59343511e-03]\n",
      "   [-6.99192169e-04]\n",
      "   [ 3.07839848e-02]\n",
      "   [-2.03023758e-03]\n",
      "   [ 4.81456593e-02]\n",
      "   [-3.85109708e-02]\n",
      "   [ 3.39075997e-02]\n",
      "   [-2.53938679e-02]\n",
      "   [ 2.88419053e-02]\n",
      "   [ 8.26360658e-03]\n",
      "   [ 8.67210981e-03]\n",
      "   [ 1.19513390e-03]\n",
      "   [ 5.72559312e-02]\n",
      "   [ 4.37117228e-03]\n",
      "   [ 1.49400281e-02]\n",
      "   [-1.49529967e-02]\n",
      "   [ 2.37899665e-02]\n",
      "   [ 4.04246226e-02]\n",
      "   [ 1.62977949e-02]\n",
      "   [ 1.00402609e-02]\n",
      "   [ 2.41005085e-02]\n",
      "   [ 3.39534669e-03]\n",
      "   [ 2.75496226e-02]\n",
      "   [ 1.58347457e-03]\n",
      "   [ 2.27462687e-02]\n",
      "   [-1.04709519e-02]]\n",
      "\n",
      "  [[ 1.06623461e-02]\n",
      "   [-1.35494024e-03]\n",
      "   [ 1.88276786e-02]\n",
      "   [-1.07641323e-02]\n",
      "   [ 3.17831226e-02]\n",
      "   [-6.08848594e-03]\n",
      "   [ 4.87183258e-02]\n",
      "   [ 3.72666270e-02]\n",
      "   [ 1.73755530e-02]\n",
      "   [-2.38419473e-02]\n",
      "   [ 2.76975483e-02]\n",
      "   [ 3.52499937e-03]\n",
      "   [ 9.01545212e-03]\n",
      "   [ 1.26197906e-02]\n",
      "   [ 4.99680154e-02]\n",
      "   [ 2.72240695e-02]\n",
      "   [ 5.08762011e-03]\n",
      "   [-1.48777915e-02]\n",
      "   [ 3.96106988e-02]\n",
      "   [-5.72421309e-03]\n",
      "   [ 1.75346490e-02]\n",
      "   [ 1.41683891e-02]\n",
      "   [ 2.03610789e-02]\n",
      "   [ 1.95164345e-02]\n",
      "   [ 4.64047752e-02]\n",
      "   [-2.15131920e-02]\n",
      "   [ 3.08350287e-02]\n",
      "   [ 9.90837533e-03]]\n",
      "\n",
      "  [[-1.30597027e-02]\n",
      "   [ 5.66176663e-04]\n",
      "   [ 1.53075773e-02]\n",
      "   [ 1.58589091e-02]\n",
      "   [-2.95029080e-04]\n",
      "   [ 1.54333655e-02]\n",
      "   [ 1.92388147e-03]\n",
      "   [-1.27693331e-02]\n",
      "   [ 9.34849959e-03]\n",
      "   [-1.64851863e-02]\n",
      "   [ 1.63712688e-02]\n",
      "   [ 2.88566691e-03]\n",
      "   [-4.51459177e-03]\n",
      "   [-3.19369044e-03]\n",
      "   [ 6.74028508e-03]\n",
      "   [-1.84777472e-02]\n",
      "   [ 1.22067165e-02]\n",
      "   [ 4.56433836e-03]\n",
      "   [ 2.91559435e-02]\n",
      "   [-1.39007438e-03]\n",
      "   [-1.85884703e-02]\n",
      "   [ 9.26207867e-04]\n",
      "   [ 1.94565915e-02]\n",
      "   [-6.88029267e-03]\n",
      "   [ 7.80756678e-03]\n",
      "   [-5.95790660e-03]\n",
      "   [ 7.40189617e-03]\n",
      "   [ 1.81403710e-04]]]], shape=(1, 28, 28, 1), dtype=float32)\n"
     ]
    },
    {
     "data": {
      "text/plain": [
       "<matplotlib.image.AxesImage at 0x1cc8bed5550>"
      ]
     },
     "execution_count": 24,
     "metadata": {},
     "output_type": "execute_result"
    },
    {
     "data": {
      "image/png": "[encoded data removed]",
      "text/plain": [
       "<Figure size 640x480 with 1 Axes>"
      ]
     },
     "metadata": {},
     "output_type": "display_data"
    }
   ],
   "source": [
    "def generate_fake(n_samples, n_classes, latent_dim):\n",
    "    labels = np.random.randint(0, n_classes, n_samples)\n",
    "    noise = tf.random.normal([n_samples, latent_dim])\n",
    "    return noise, labels\n",
    "\n",
    "noise, labels = generate_fake(1, 10, 100)\n",
    "\n",
    "gen_img = generator(noise)\n",
    "print(gen_img)\n",
    "\n",
    "plt.imshow(gen_img[0,:,:,0], cmap='gray')"
   ]
  },
  {
   "cell_type": "code",
   "execution_count": 25,
   "metadata": {
    "ExecuteTime": {
     "end_time": "2023-09-04T08:42:34.853418Z",
     "start_time": "2023-09-04T08:42:34.818231Z"
    },
    "id": "TQ3LRH4O6SWh"
   },
   "outputs": [],
   "source": [
    "class GAN(keras.Model):\n",
    "    def __init__(self, critic, generator):\n",
    "        super(GAN, self).__init__()\n",
    "        self.critic = critic\n",
    "        self.generator = generator\n",
    "        \n",
    "\n",
    "    def compile(self, c_optimizer, g_optimizer):\n",
    "        super(GAN, self).compile()\n",
    "        self.c_optimizer = c_optimizer\n",
    "        self.g_optimizer = g_optimizer\n",
    "    \n",
    "    # wasserstein distance for the discriminator\n",
    "    def critic_loss(self, real, fake):\n",
    "        real_loss = tf.reduce_mean(real)\n",
    "        fake_loss = tf.reduce_mean(fake)\n",
    "        total_loss = fake_loss - real_loss\n",
    "        return total_loss\n",
    "\n",
    "    # the generator tries to move the gen_images to the real images distribution\n",
    "    def generator_loss(self, fake):\n",
    "        fake_loss = -(tf.reduce_mean(fake))\n",
    "        return fake_loss\n",
    "\n",
    "    def train_step(self, batch, n_critic=5):\n",
    "        #tr_image, tr_label = batch\n",
    "        noise, labels = generate_fake(64, 10, 100)\n",
    "        # update the critic more.\n",
    "        for i in range(n_critic):\n",
    "            with tf.GradientTape() as cr_tape:\n",
    "                generated = self.generator(noise, training=True)\n",
    "                real = self.critic(batch, training=True)\n",
    "                fake = self.critic(generated, training=True)\n",
    "                cr_loss = self.critic_loss(real, fake)\n",
    "\n",
    "                cr_grad = cr_tape.gradient(cr_loss, self.critic.trainable_variables)\n",
    "                self.c_optimizer.apply_gradients(zip(cr_grad, self.critic.trainable_variables))\n",
    "                \n",
    "        with tf.GradientTape() as gen_tape: \n",
    "            generated_image = self.generator(noise, training=True)\n",
    "            cr_gen_img = self.critic(generated_image, training=True)\n",
    "\n",
    "            gen_loss = self.generator_loss(cr_gen_img)\n",
    "\n",
    "        gen_grad = gen_tape.gradient(gen_loss, self.generator.trainable_variables)\n",
    "\n",
    "        self.g_optimizer.apply_gradients(zip(gen_grad, self.generator.trainable_variables))\n",
    "        return {\"cr_loss\": cr_loss, \"g_loss\": gen_loss}"
   ]
  },
  {
   "cell_type": "code",
   "execution_count": 26,
   "metadata": {
    "ExecuteTime": {
     "end_time": "2023-09-04T08:42:39.262621Z",
     "start_time": "2023-09-04T08:42:39.237622Z"
    },
    "id": "u0tNgNoN6R_8"
   },
   "outputs": [],
   "source": [
    "WGAN = GAN(critic=critic, generator=generator)"
   ]
  },
  {
   "cell_type": "code",
   "execution_count": 27,
   "metadata": {
    "ExecuteTime": {
     "end_time": "2023-09-04T08:42:39.888756Z",
     "start_time": "2023-09-04T08:42:39.850282Z"
    },
    "id": "reTmUx0tCtOC"
   },
   "outputs": [],
   "source": [
    "WGAN.compile(c_optimizer=RMSprop(learning_rate=0.00005),\n",
    "             g_optimizer=RMSprop(learning_rate=0.00005))"
   ]
  },
  {
   "cell_type": "code",
   "execution_count": 28,
   "metadata": {
    "ExecuteTime": {
     "end_time": "2023-09-04T08:42:40.601873Z",
     "start_time": "2023-09-04T08:42:40.592872Z"
    },
    "id": "O9CqPy6BDRz2"
   },
   "outputs": [],
   "source": [
    "epochs = 50\n",
    "seed = tf.random.normal([16, 100])\n",
    "#labels = np.random.randint(0, 10, 16)"
   ]
  },
  {
   "cell_type": "code",
   "execution_count": 29,
   "metadata": {
    "ExecuteTime": {
     "end_time": "2023-09-04T08:42:41.528308Z",
     "start_time": "2023-09-04T08:42:41.509284Z"
    },
    "id": "56ydj5hiDXHT"
   },
   "outputs": [],
   "source": [
    "#path = '/content/drive/My Drive/colab_notebooks/wgan_images/'\n",
    "\n",
    "class Generate(keras.callbacks.Callback):\n",
    "    def __init__(self):\n",
    "        super(Generate, self).__init__()\n",
    "        \n",
    "    def on_epoch_end(self, epoch, logs=None):\n",
    "        prediction = generator(seed)\n",
    "\n",
    "        plt.figure(figsize=(4, 4))\n",
    "        for i in range(16):\n",
    "            plt.subplot(4, 4, i+1)\n",
    "            plt.imshow(prediction[i, :, :, 0], cmap='gray')\n",
    "            plt.axis('off')\n",
    "            \n",
    "        plt.savefig(f'image at epoch {epoch+1}.png')\n",
    "        plt.show()"
   ]
  },
  {
   "cell_type": "code",
   "execution_count": 30,
   "metadata": {
    "ExecuteTime": {
     "end_time": "2023-09-04T08:51:11.067728Z",
     "start_time": "2023-09-04T08:42:42.081477Z"
    },
    "id": "Sa-Y2aX3DHrL"
   },
   "outputs": [
    {
     "name": "stdout",
     "output_type": "stream",
     "text": [
      "Epoch 1/50\n",
      "96/96 [==============================] - ETA: 0s - cr_loss: -28.6041 - g_loss: 8.3150"
     ]
    },
    {
     "data": {
      "image/png": "[encoded data removed]",
      "text/plain": [
       "<Figure size 400x400 with 16 Axes>"
      ]
     },
     "metadata": {},
     "output_type": "display_data"
    },
    {
     "name": "stdout",
     "output_type": "stream",
     "text": [
      "96/96 [==============================] - 468s 5s/step - cr_loss: -28.7277 - g_loss: 8.3358\n",
      "Epoch 2/50\n",
      " 7/96 [=>............................] - ETA: 7:41 - cr_loss: -40.1877 - g_loss: 12.1774"
     ]
    },
    {
     "ename": "KeyboardInterrupt",
     "evalue": "",
     "output_type": "error",
     "traceback": [
      "\u001b[1;31m---------------------------------------------------------------------------\u001b[0m",
      "\u001b[1;31mKeyboardInterrupt\u001b[0m                         Traceback (most recent call last)",
      "\u001b[1;32m~\\AppData\\Local\\Temp\\ipykernel_12756\\2060893801.py\u001b[0m in \u001b[0;36m<module>\u001b[1;34m\u001b[0m\n\u001b[1;32m----> 1\u001b[1;33m \u001b[0mWGAN\u001b[0m\u001b[1;33m.\u001b[0m\u001b[0mfit\u001b[0m\u001b[1;33m(\u001b[0m\u001b[0mtrain_ds\u001b[0m\u001b[1;33m,\u001b[0m \u001b[0mepochs\u001b[0m\u001b[1;33m=\u001b[0m\u001b[1;36m50\u001b[0m\u001b[1;33m,\u001b[0m \u001b[0mcallbacks\u001b[0m\u001b[1;33m=\u001b[0m\u001b[1;33m[\u001b[0m\u001b[0mGenerate\u001b[0m\u001b[1;33m(\u001b[0m\u001b[1;33m)\u001b[0m\u001b[1;33m]\u001b[0m\u001b[1;33m)\u001b[0m\u001b[1;33m\u001b[0m\u001b[1;33m\u001b[0m\u001b[0m\n\u001b[0m",
      "\u001b[1;32m~\\anaconda\\envs\\tf_gpu\\lib\\site-packages\\keras\\src\\utils\\traceback_utils.py\u001b[0m in \u001b[0;36merror_handler\u001b[1;34m(*args, **kwargs)\u001b[0m\n\u001b[0;32m     63\u001b[0m         \u001b[0mfiltered_tb\u001b[0m \u001b[1;33m=\u001b[0m \u001b[1;32mNone\u001b[0m\u001b[1;33m\u001b[0m\u001b[1;33m\u001b[0m\u001b[0m\n\u001b[0;32m     64\u001b[0m         \u001b[1;32mtry\u001b[0m\u001b[1;33m:\u001b[0m\u001b[1;33m\u001b[0m\u001b[1;33m\u001b[0m\u001b[0m\n\u001b[1;32m---> 65\u001b[1;33m             \u001b[1;32mreturn\u001b[0m \u001b[0mfn\u001b[0m\u001b[1;33m(\u001b[0m\u001b[1;33m*\u001b[0m\u001b[0margs\u001b[0m\u001b[1;33m,\u001b[0m \u001b[1;33m**\u001b[0m\u001b[0mkwargs\u001b[0m\u001b[1;33m)\u001b[0m\u001b[1;33m\u001b[0m\u001b[1;33m\u001b[0m\u001b[0m\n\u001b[0m\u001b[0;32m     66\u001b[0m         \u001b[1;32mexcept\u001b[0m \u001b[0mException\u001b[0m \u001b[1;32mas\u001b[0m \u001b[0me\u001b[0m\u001b[1;33m:\u001b[0m\u001b[1;33m\u001b[0m\u001b[1;33m\u001b[0m\u001b[0m\n\u001b[0;32m     67\u001b[0m             \u001b[0mfiltered_tb\u001b[0m \u001b[1;33m=\u001b[0m \u001b[0m_process_traceback_frames\u001b[0m\u001b[1;33m(\u001b[0m\u001b[0me\u001b[0m\u001b[1;33m.\u001b[0m\u001b[0m__traceback__\u001b[0m\u001b[1;33m)\u001b[0m\u001b[1;33m\u001b[0m\u001b[1;33m\u001b[0m\u001b[0m\n",
      "\u001b[1;32m~\\anaconda\\envs\\tf_gpu\\lib\\site-packages\\keras\\src\\engine\\training.py\u001b[0m in \u001b[0;36mfit\u001b[1;34m(self, x, y, batch_size, epochs, verbose, callbacks, validation_split, validation_data, shuffle, class_weight, sample_weight, initial_epoch, steps_per_epoch, validation_steps, validation_batch_size, validation_freq, max_queue_size, workers, use_multiprocessing)\u001b[0m\n\u001b[0;32m   1740\u001b[0m                         ):\n\u001b[0;32m   1741\u001b[0m                             \u001b[0mcallbacks\u001b[0m\u001b[1;33m.\u001b[0m\u001b[0mon_train_batch_begin\u001b[0m\u001b[1;33m(\u001b[0m\u001b[0mstep\u001b[0m\u001b[1;33m)\u001b[0m\u001b[1;33m\u001b[0m\u001b[1;33m\u001b[0m\u001b[0m\n\u001b[1;32m-> 1742\u001b[1;33m                             \u001b[0mtmp_logs\u001b[0m \u001b[1;33m=\u001b[0m \u001b[0mself\u001b[0m\u001b[1;33m.\u001b[0m\u001b[0mtrain_function\u001b[0m\u001b[1;33m(\u001b[0m\u001b[0miterator\u001b[0m\u001b[1;33m)\u001b[0m\u001b[1;33m\u001b[0m\u001b[1;33m\u001b[0m\u001b[0m\n\u001b[0m\u001b[0;32m   1743\u001b[0m                             \u001b[1;32mif\u001b[0m \u001b[0mdata_handler\u001b[0m\u001b[1;33m.\u001b[0m\u001b[0mshould_sync\u001b[0m\u001b[1;33m:\u001b[0m\u001b[1;33m\u001b[0m\u001b[1;33m\u001b[0m\u001b[0m\n\u001b[0;32m   1744\u001b[0m                                 \u001b[0mcontext\u001b[0m\u001b[1;33m.\u001b[0m\u001b[0masync_wait\u001b[0m\u001b[1;33m(\u001b[0m\u001b[1;33m)\u001b[0m\u001b[1;33m\u001b[0m\u001b[1;33m\u001b[0m\u001b[0m\n",
      "\u001b[1;32m~\\anaconda\\envs\\tf_gpu\\lib\\site-packages\\tensorflow\\python\\util\\traceback_utils.py\u001b[0m in \u001b[0;36merror_handler\u001b[1;34m(*args, **kwargs)\u001b[0m\n\u001b[0;32m    148\u001b[0m     \u001b[0mfiltered_tb\u001b[0m \u001b[1;33m=\u001b[0m \u001b[1;32mNone\u001b[0m\u001b[1;33m\u001b[0m\u001b[1;33m\u001b[0m\u001b[0m\n\u001b[0;32m    149\u001b[0m     \u001b[1;32mtry\u001b[0m\u001b[1;33m:\u001b[0m\u001b[1;33m\u001b[0m\u001b[1;33m\u001b[0m\u001b[0m\n\u001b[1;32m--> 150\u001b[1;33m       \u001b[1;32mreturn\u001b[0m \u001b[0mfn\u001b[0m\u001b[1;33m(\u001b[0m\u001b[1;33m*\u001b[0m\u001b[0margs\u001b[0m\u001b[1;33m,\u001b[0m \u001b[1;33m**\u001b[0m\u001b[0mkwargs\u001b[0m\u001b[1;33m)\u001b[0m\u001b[1;33m\u001b[0m\u001b[1;33m\u001b[0m\u001b[0m\n\u001b[0m\u001b[0;32m    151\u001b[0m     \u001b[1;32mexcept\u001b[0m \u001b[0mException\u001b[0m \u001b[1;32mas\u001b[0m \u001b[0me\u001b[0m\u001b[1;33m:\u001b[0m\u001b[1;33m\u001b[0m\u001b[1;33m\u001b[0m\u001b[0m\n\u001b[0;32m    152\u001b[0m       \u001b[0mfiltered_tb\u001b[0m \u001b[1;33m=\u001b[0m \u001b[0m_process_traceback_frames\u001b[0m\u001b[1;33m(\u001b[0m\u001b[0me\u001b[0m\u001b[1;33m.\u001b[0m\u001b[0m__traceback__\u001b[0m\u001b[1;33m)\u001b[0m\u001b[1;33m\u001b[0m\u001b[1;33m\u001b[0m\u001b[0m\n",
      "\u001b[1;32m~\\anaconda\\envs\\tf_gpu\\lib\\site-packages\\tensorflow\\python\\eager\\polymorphic_function\\polymorphic_function.py\u001b[0m in \u001b[0;36m__call__\u001b[1;34m(self, *args, **kwds)\u001b[0m\n\u001b[0;32m    823\u001b[0m \u001b[1;33m\u001b[0m\u001b[0m\n\u001b[0;32m    824\u001b[0m       \u001b[1;32mwith\u001b[0m \u001b[0mOptionalXlaContext\u001b[0m\u001b[1;33m(\u001b[0m\u001b[0mself\u001b[0m\u001b[1;33m.\u001b[0m\u001b[0m_jit_compile\u001b[0m\u001b[1;33m)\u001b[0m\u001b[1;33m:\u001b[0m\u001b[1;33m\u001b[0m\u001b[1;33m\u001b[0m\u001b[0m\n\u001b[1;32m--> 825\u001b[1;33m         \u001b[0mresult\u001b[0m \u001b[1;33m=\u001b[0m \u001b[0mself\u001b[0m\u001b[1;33m.\u001b[0m\u001b[0m_call\u001b[0m\u001b[1;33m(\u001b[0m\u001b[1;33m*\u001b[0m\u001b[0margs\u001b[0m\u001b[1;33m,\u001b[0m \u001b[1;33m**\u001b[0m\u001b[0mkwds\u001b[0m\u001b[1;33m)\u001b[0m\u001b[1;33m\u001b[0m\u001b[1;33m\u001b[0m\u001b[0m\n\u001b[0m\u001b[0;32m    826\u001b[0m \u001b[1;33m\u001b[0m\u001b[0m\n\u001b[0;32m    827\u001b[0m       \u001b[0mnew_tracing_count\u001b[0m \u001b[1;33m=\u001b[0m \u001b[0mself\u001b[0m\u001b[1;33m.\u001b[0m\u001b[0mexperimental_get_tracing_count\u001b[0m\u001b[1;33m(\u001b[0m\u001b[1;33m)\u001b[0m\u001b[1;33m\u001b[0m\u001b[1;33m\u001b[0m\u001b[0m\n",
      "\u001b[1;32m~\\anaconda\\envs\\tf_gpu\\lib\\site-packages\\tensorflow\\python\\eager\\polymorphic_function\\polymorphic_function.py\u001b[0m in \u001b[0;36m_call\u001b[1;34m(self, *args, **kwds)\u001b[0m\n\u001b[0;32m    855\u001b[0m       \u001b[1;31m# In this case we have created variables on the first call, so we run the\u001b[0m\u001b[1;33m\u001b[0m\u001b[1;33m\u001b[0m\u001b[1;33m\u001b[0m\u001b[0m\n\u001b[0;32m    856\u001b[0m       \u001b[1;31m# defunned version which is guaranteed to never create variables.\u001b[0m\u001b[1;33m\u001b[0m\u001b[1;33m\u001b[0m\u001b[1;33m\u001b[0m\u001b[0m\n\u001b[1;32m--> 857\u001b[1;33m       \u001b[1;32mreturn\u001b[0m \u001b[0mself\u001b[0m\u001b[1;33m.\u001b[0m\u001b[0m_no_variable_creation_fn\u001b[0m\u001b[1;33m(\u001b[0m\u001b[1;33m*\u001b[0m\u001b[0margs\u001b[0m\u001b[1;33m,\u001b[0m \u001b[1;33m**\u001b[0m\u001b[0mkwds\u001b[0m\u001b[1;33m)\u001b[0m  \u001b[1;31m# pylint: disable=not-callable\u001b[0m\u001b[1;33m\u001b[0m\u001b[1;33m\u001b[0m\u001b[0m\n\u001b[0m\u001b[0;32m    858\u001b[0m     \u001b[1;32melif\u001b[0m \u001b[0mself\u001b[0m\u001b[1;33m.\u001b[0m\u001b[0m_variable_creation_fn\u001b[0m \u001b[1;32mis\u001b[0m \u001b[1;32mnot\u001b[0m \u001b[1;32mNone\u001b[0m\u001b[1;33m:\u001b[0m\u001b[1;33m\u001b[0m\u001b[1;33m\u001b[0m\u001b[0m\n\u001b[0;32m    859\u001b[0m       \u001b[1;31m# Release the lock early so that multiple threads can perform the call\u001b[0m\u001b[1;33m\u001b[0m\u001b[1;33m\u001b[0m\u001b[1;33m\u001b[0m\u001b[0m\n",
      "\u001b[1;32m~\\anaconda\\envs\\tf_gpu\\lib\\site-packages\\tensorflow\\python\\eager\\polymorphic_function\\tracing_compiler.py\u001b[0m in \u001b[0;36m__call__\u001b[1;34m(self, *args, **kwargs)\u001b[0m\n\u001b[0;32m    146\u001b[0m       (concrete_function,\n\u001b[0;32m    147\u001b[0m        filtered_flat_args) = self._maybe_define_function(args, kwargs)\n\u001b[1;32m--> 148\u001b[1;33m     return concrete_function._call_flat(\n\u001b[0m\u001b[0;32m    149\u001b[0m         filtered_flat_args, captured_inputs=concrete_function.captured_inputs)  # pylint: disable=protected-access\n\u001b[0;32m    150\u001b[0m \u001b[1;33m\u001b[0m\u001b[0m\n",
      "\u001b[1;32m~\\anaconda\\envs\\tf_gpu\\lib\\site-packages\\tensorflow\\python\\eager\\polymorphic_function\\monomorphic_function.py\u001b[0m in \u001b[0;36m_call_flat\u001b[1;34m(self, args, captured_inputs)\u001b[0m\n\u001b[0;32m   1347\u001b[0m         and executing_eagerly):\n\u001b[0;32m   1348\u001b[0m       \u001b[1;31m# No tape is watching; skip to running the function.\u001b[0m\u001b[1;33m\u001b[0m\u001b[1;33m\u001b[0m\u001b[1;33m\u001b[0m\u001b[0m\n\u001b[1;32m-> 1349\u001b[1;33m       \u001b[1;32mreturn\u001b[0m \u001b[0mself\u001b[0m\u001b[1;33m.\u001b[0m\u001b[0m_build_call_outputs\u001b[0m\u001b[1;33m(\u001b[0m\u001b[0mself\u001b[0m\u001b[1;33m.\u001b[0m\u001b[0m_inference_function\u001b[0m\u001b[1;33m(\u001b[0m\u001b[1;33m*\u001b[0m\u001b[0margs\u001b[0m\u001b[1;33m)\u001b[0m\u001b[1;33m)\u001b[0m\u001b[1;33m\u001b[0m\u001b[1;33m\u001b[0m\u001b[0m\n\u001b[0m\u001b[0;32m   1350\u001b[0m     forward_backward = self._select_forward_and_backward_functions(\n\u001b[0;32m   1351\u001b[0m         \u001b[0margs\u001b[0m\u001b[1;33m,\u001b[0m\u001b[1;33m\u001b[0m\u001b[1;33m\u001b[0m\u001b[0m\n",
      "\u001b[1;32m~\\anaconda\\envs\\tf_gpu\\lib\\site-packages\\tensorflow\\python\\eager\\polymorphic_function\\atomic_function.py\u001b[0m in \u001b[0;36m__call__\u001b[1;34m(self, *args)\u001b[0m\n\u001b[0;32m    194\u001b[0m         \u001b[1;32mwith\u001b[0m \u001b[0mrecord\u001b[0m\u001b[1;33m.\u001b[0m\u001b[0mstop_recording\u001b[0m\u001b[1;33m(\u001b[0m\u001b[1;33m)\u001b[0m\u001b[1;33m:\u001b[0m\u001b[1;33m\u001b[0m\u001b[1;33m\u001b[0m\u001b[0m\n\u001b[0;32m    195\u001b[0m           \u001b[1;32mif\u001b[0m \u001b[0mself\u001b[0m\u001b[1;33m.\u001b[0m\u001b[0m_bound_context\u001b[0m\u001b[1;33m.\u001b[0m\u001b[0mexecuting_eagerly\u001b[0m\u001b[1;33m(\u001b[0m\u001b[1;33m)\u001b[0m\u001b[1;33m:\u001b[0m\u001b[1;33m\u001b[0m\u001b[1;33m\u001b[0m\u001b[0m\n\u001b[1;32m--> 196\u001b[1;33m             outputs = self._bound_context.call_function(\n\u001b[0m\u001b[0;32m    197\u001b[0m                 \u001b[0mself\u001b[0m\u001b[1;33m.\u001b[0m\u001b[0mname\u001b[0m\u001b[1;33m,\u001b[0m\u001b[1;33m\u001b[0m\u001b[1;33m\u001b[0m\u001b[0m\n\u001b[0;32m    198\u001b[0m                 \u001b[0mlist\u001b[0m\u001b[1;33m(\u001b[0m\u001b[0margs\u001b[0m\u001b[1;33m)\u001b[0m\u001b[1;33m,\u001b[0m\u001b[1;33m\u001b[0m\u001b[1;33m\u001b[0m\u001b[0m\n",
      "\u001b[1;32m~\\anaconda\\envs\\tf_gpu\\lib\\site-packages\\tensorflow\\python\\eager\\context.py\u001b[0m in \u001b[0;36mcall_function\u001b[1;34m(self, name, tensor_inputs, num_outputs)\u001b[0m\n\u001b[0;32m   1455\u001b[0m     \u001b[0mcancellation_context\u001b[0m \u001b[1;33m=\u001b[0m \u001b[0mcancellation\u001b[0m\u001b[1;33m.\u001b[0m\u001b[0mcontext\u001b[0m\u001b[1;33m(\u001b[0m\u001b[1;33m)\u001b[0m\u001b[1;33m\u001b[0m\u001b[1;33m\u001b[0m\u001b[0m\n\u001b[0;32m   1456\u001b[0m     \u001b[1;32mif\u001b[0m \u001b[0mcancellation_context\u001b[0m \u001b[1;32mis\u001b[0m \u001b[1;32mNone\u001b[0m\u001b[1;33m:\u001b[0m\u001b[1;33m\u001b[0m\u001b[1;33m\u001b[0m\u001b[0m\n\u001b[1;32m-> 1457\u001b[1;33m       outputs = execute.execute(\n\u001b[0m\u001b[0;32m   1458\u001b[0m           \u001b[0mname\u001b[0m\u001b[1;33m.\u001b[0m\u001b[0mdecode\u001b[0m\u001b[1;33m(\u001b[0m\u001b[1;34m\"utf-8\"\u001b[0m\u001b[1;33m)\u001b[0m\u001b[1;33m,\u001b[0m\u001b[1;33m\u001b[0m\u001b[1;33m\u001b[0m\u001b[0m\n\u001b[0;32m   1459\u001b[0m           \u001b[0mnum_outputs\u001b[0m\u001b[1;33m=\u001b[0m\u001b[0mnum_outputs\u001b[0m\u001b[1;33m,\u001b[0m\u001b[1;33m\u001b[0m\u001b[1;33m\u001b[0m\u001b[0m\n",
      "\u001b[1;32m~\\anaconda\\envs\\tf_gpu\\lib\\site-packages\\tensorflow\\python\\eager\\execute.py\u001b[0m in \u001b[0;36mquick_execute\u001b[1;34m(op_name, num_outputs, inputs, attrs, ctx, name)\u001b[0m\n\u001b[0;32m     51\u001b[0m   \u001b[1;32mtry\u001b[0m\u001b[1;33m:\u001b[0m\u001b[1;33m\u001b[0m\u001b[1;33m\u001b[0m\u001b[0m\n\u001b[0;32m     52\u001b[0m     \u001b[0mctx\u001b[0m\u001b[1;33m.\u001b[0m\u001b[0mensure_initialized\u001b[0m\u001b[1;33m(\u001b[0m\u001b[1;33m)\u001b[0m\u001b[1;33m\u001b[0m\u001b[1;33m\u001b[0m\u001b[0m\n\u001b[1;32m---> 53\u001b[1;33m     tensors = pywrap_tfe.TFE_Py_Execute(ctx._handle, device_name, op_name,\n\u001b[0m\u001b[0;32m     54\u001b[0m                                         inputs, attrs, num_outputs)\n\u001b[0;32m     55\u001b[0m   \u001b[1;32mexcept\u001b[0m \u001b[0mcore\u001b[0m\u001b[1;33m.\u001b[0m\u001b[0m_NotOkStatusException\u001b[0m \u001b[1;32mas\u001b[0m \u001b[0me\u001b[0m\u001b[1;33m:\u001b[0m\u001b[1;33m\u001b[0m\u001b[1;33m\u001b[0m\u001b[0m\n",
      "\u001b[1;31mKeyboardInterrupt\u001b[0m: "
     ]
    }
   ],
   "source": [
    "WGAN.fit(train_ds, epochs=50, callbacks=[Generate()])"
   ]
  },
  {
   "cell_type": "code",
   "execution_count": null,
   "metadata": {
    "id": "cO1pYG1lFhNg"
   },
   "outputs": [],
   "source": [
    "Generate().on_epoch_end(0)"
   ]
  },
  {
   "cell_type": "code",
   "execution_count": 45,
   "metadata": {
    "ExecuteTime": {
     "end_time": "2023-07-29T11:49:52.878989Z",
     "start_time": "2023-07-29T11:49:52.150389Z"
    }
   },
   "outputs": [],
   "source": [
    "for image in train_ds.take(1):\n",
    "    disc = critic(image)\n",
    "    fake = critic(generator(tf.random.normal([64, 100])))"
   ]
  },
  {
   "cell_type": "code",
   "execution_count": 46,
   "metadata": {
    "ExecuteTime": {
     "end_time": "2023-07-29T11:49:53.431433Z",
     "start_time": "2023-07-29T11:49:53.400432Z"
    }
   },
   "outputs": [
    {
     "data": {
      "text/plain": [
       "<tf.Tensor: shape=(), dtype=float32, numpy=-1.1897485>"
      ]
     },
     "execution_count": 46,
     "metadata": {},
     "output_type": "execute_result"
    }
   ],
   "source": [
    "tf.reduce_mean(disc*-(tf.ones_like(disc)))"
   ]
  },
  {
   "cell_type": "code",
   "execution_count": 47,
   "metadata": {
    "ExecuteTime": {
     "end_time": "2023-07-29T11:49:56.862615Z",
     "start_time": "2023-07-29T11:49:56.839608Z"
    }
   },
   "outputs": [
    {
     "data": {
      "text/plain": [
       "<tf.Tensor: shape=(), dtype=float32, numpy=0.03250167>"
      ]
     },
     "execution_count": 47,
     "metadata": {},
     "output_type": "execute_result"
    }
   ],
   "source": [
    "K.mean(fake*(tf.ones_like(fake)))"
   ]
  },
  {
   "cell_type": "code",
   "execution_count": 49,
   "metadata": {
    "ExecuteTime": {
     "end_time": "2023-07-29T11:50:20.610571Z",
     "start_time": "2023-07-29T11:50:20.587571Z"
    }
   },
   "outputs": [
    {
     "data": {
      "text/plain": [
       "<tf.Tensor: shape=(64, 1), dtype=float32, numpy=\n",
       "array([[ 0.03777957],\n",
       "       [ 0.04776618],\n",
       "       [ 0.02336919],\n",
       "       [ 0.0500405 ],\n",
       "       [ 0.05893546],\n",
       "       [ 0.02535053],\n",
       "       [ 0.03052945],\n",
       "       [ 0.05276126],\n",
       "       [ 0.02466796],\n",
       "       [ 0.0083583 ],\n",
       "       [ 0.04798985],\n",
       "       [ 0.0434635 ],\n",
       "       [ 0.02282563],\n",
       "       [ 0.03702849],\n",
       "       [ 0.05437787],\n",
       "       [ 0.03816235],\n",
       "       [ 0.03980958],\n",
       "       [ 0.01414186],\n",
       "       [ 0.03358172],\n",
       "       [ 0.04079339],\n",
       "       [ 0.04678276],\n",
       "       [ 0.05958775],\n",
       "       [ 0.04516837],\n",
       "       [ 0.04631869],\n",
       "       [ 0.03216636],\n",
       "       [ 0.02200092],\n",
       "       [ 0.01368891],\n",
       "       [ 0.02942909],\n",
       "       [ 0.03661355],\n",
       "       [ 0.026246  ],\n",
       "       [-0.01016209],\n",
       "       [ 0.03075776],\n",
       "       [ 0.04316238],\n",
       "       [ 0.03539048],\n",
       "       [ 0.05716981],\n",
       "       [ 0.03849331],\n",
       "       [ 0.04891363],\n",
       "       [ 0.03879382],\n",
       "       [ 0.01248066],\n",
       "       [ 0.01508461],\n",
       "       [ 0.05955938],\n",
       "       [ 0.02021393],\n",
       "       [ 0.00251813],\n",
       "       [ 0.0206155 ],\n",
       "       [ 0.03810713],\n",
       "       [ 0.0421401 ],\n",
       "       [ 0.04550837],\n",
       "       [ 0.05009922],\n",
       "       [ 0.03004971],\n",
       "       [ 0.02329466],\n",
       "       [ 0.04882917],\n",
       "       [ 0.04957533],\n",
       "       [ 0.0237475 ],\n",
       "       [ 0.01605803],\n",
       "       [ 0.01027784],\n",
       "       [ 0.03171884],\n",
       "       [ 0.0039098 ],\n",
       "       [ 0.00626533],\n",
       "       [ 0.03371389],\n",
       "       [ 0.01822217],\n",
       "       [ 0.02709845],\n",
       "       [ 0.03162034],\n",
       "       [ 0.03504083],\n",
       "       [ 0.01210384]], dtype=float32)>"
      ]
     },
     "execution_count": 49,
     "metadata": {},
     "output_type": "execute_result"
    }
   ],
   "source": [
    "fake"
   ]
  },
  {
   "cell_type": "code",
   "execution_count": null,
   "metadata": {},
   "outputs": [],
   "source": []
  }
 ],
 "metadata": {
  "colab": {
   "authorship_tag": "ABX9TyOV7l8VMEwj7Vb0OiqHKK9j",
   "provenance": []
  },
  "kernelspec": {
   "display_name": "Python 3 (ipykernel)",
   "language": "python",
   "name": "python3"
  },
  "language_info": {
   "codemirror_mode": {
    "name": "ipython",
    "version": 3
   },
   "file_extension": ".py",
   "mimetype": "text/x-python",
   "name": "python",
   "nbconvert_exporter": "python",
   "pygments_lexer": "ipython3",
   "version": "3.9.0"
  },
  "varInspector": {
   "cols": {
    "lenName": 16,
    "lenType": 16,
    "lenVar": 40
   },
   "kernels_config": {
    "python": {
     "delete_cmd_postfix": "",
     "delete_cmd_prefix": "del ",
     "library": "var_list.py",
     "varRefreshCmd": "print(var_dic_list())"
    },
    "r": {
     "delete_cmd_postfix": ") ",
     "delete_cmd_prefix": "rm(",
     "library": "var_list.r",
     "varRefreshCmd": "cat(var_dic_list()) "
    }
   },
   "types_to_exclude": [
    "module",
    "function",
    "builtin_function_or_method",
    "instance",
    "_Feature"
   ],
   "window_display": false
  }
 },
 "nbformat": 4,
 "nbformat_minor": 1
}
